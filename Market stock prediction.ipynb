{
 "cells": [
  {
   "cell_type": "markdown",
   "metadata": {
    "id": "VaBO2Pg8BSHZ"
   },
   "source": [
    "# Project Description\n",
    "## Meekness Anyaeche\n",
    "### Introduction\n",
    "    The stock market, equity market or share market is the aggregation of buyers and sellers of stocks, which represent ownership claims on businesses; these may include securities listed on a public stock exchange, as well as stock that is only traded privately, such as shares of private companies which are sold to investors through equity crowdfunding platforms. Predicting the stock market has always been one of the most difficult tasks undertaken by humans. My project seeks to find procedures of predicting the stocks, and eventually, to predict them using Machine learning. Machine learning is a data analysis technique that learns from experience using computational data to learn information directly from data without relying on a predetermined equation. These algorithms find patterns in market data that generate insight to make better and smarter decisions on stocks.\n",
    "### Features\n",
    "\tThis project will contain various ways and tools that will help in determining how machine learning is of great importance in the market world. Features such as KNN-classifiers, tree classifiers, cross validation, dummy classifiers, decision trees and so on. These features will be used and explained extensively in this project to practically depict their own predictions of the market. \n",
    "### Obtaining Data\n",
    "    In this project, I’ll dive into the various models used, then proceeding to predict the markets. Using various techniques like classification technique or regression technique. The data for this project will be obtained from API’s from Yahoo and will cover features from various categories of technical indicators, futures contracts, price of commodities, important indices of markets around the world, price of major companies in the U.S. market, and treasury bill rates"
   ]
  },
  {
   "cell_type": "code",
   "execution_count": 1,
   "metadata": {
    "colab": {
     "base_uri": "https://localhost:8080/"
    },
    "id": "eY0VRg61BSHo",
    "outputId": "a8b927ca-9798-411e-acc5-a10ea5f8eb28",
    "scrolled": true
   },
   "outputs": [
    {
     "name": "stdout",
     "output_type": "stream",
     "text": [
      "Requirement already satisfied: pandas-datareader in /Users/meeknessanyaeche/opt/anaconda3/lib/python3.8/site-packages (0.10.0)\n",
      "Requirement already satisfied: requests>=2.19.0 in /Users/meeknessanyaeche/opt/anaconda3/lib/python3.8/site-packages (from pandas-datareader) (2.25.1)\n",
      "Requirement already satisfied: pandas>=0.23 in /Users/meeknessanyaeche/opt/anaconda3/lib/python3.8/site-packages (from pandas-datareader) (1.2.4)\n",
      "Requirement already satisfied: lxml in /Users/meeknessanyaeche/opt/anaconda3/lib/python3.8/site-packages (from pandas-datareader) (4.6.3)\n",
      "Requirement already satisfied: python-dateutil>=2.7.3 in /Users/meeknessanyaeche/opt/anaconda3/lib/python3.8/site-packages (from pandas>=0.23->pandas-datareader) (2.8.1)\n",
      "Requirement already satisfied: pytz>=2017.3 in /Users/meeknessanyaeche/opt/anaconda3/lib/python3.8/site-packages (from pandas>=0.23->pandas-datareader) (2021.1)\n",
      "Requirement already satisfied: numpy>=1.16.5 in /Users/meeknessanyaeche/opt/anaconda3/lib/python3.8/site-packages (from pandas>=0.23->pandas-datareader) (1.19.5)\n",
      "Requirement already satisfied: six>=1.5 in /Users/meeknessanyaeche/opt/anaconda3/lib/python3.8/site-packages (from python-dateutil>=2.7.3->pandas>=0.23->pandas-datareader) (1.15.0)\n",
      "Requirement already satisfied: idna<3,>=2.5 in /Users/meeknessanyaeche/opt/anaconda3/lib/python3.8/site-packages (from requests>=2.19.0->pandas-datareader) (2.10)\n",
      "Requirement already satisfied: chardet<5,>=3.0.2 in /Users/meeknessanyaeche/opt/anaconda3/lib/python3.8/site-packages (from requests>=2.19.0->pandas-datareader) (4.0.0)\n",
      "Requirement already satisfied: urllib3<1.27,>=1.21.1 in /Users/meeknessanyaeche/opt/anaconda3/lib/python3.8/site-packages (from requests>=2.19.0->pandas-datareader) (1.26.4)\n",
      "Requirement already satisfied: certifi>=2017.4.17 in /Users/meeknessanyaeche/opt/anaconda3/lib/python3.8/site-packages (from requests>=2.19.0->pandas-datareader) (2020.12.5)\n",
      "Note: you may need to restart the kernel to use updated packages.\n"
     ]
    }
   ],
   "source": [
    "pip install pandas-datareader"
   ]
  },
  {
   "cell_type": "code",
   "execution_count": 2,
   "metadata": {
    "colab": {
     "base_uri": "https://localhost:8080/"
    },
    "id": "LHMhhW9hBSIf",
    "outputId": "f4993eb3-bad4-4dee-ec12-da4af77c16d5"
   },
   "outputs": [
    {
     "name": "stdout",
     "output_type": "stream",
     "text": [
      "Requirement already satisfied: tensorflow in /Users/meeknessanyaeche/opt/anaconda3/lib/python3.8/site-packages (2.6.0)\n",
      "Requirement already satisfied: flatbuffers~=1.12.0 in /Users/meeknessanyaeche/opt/anaconda3/lib/python3.8/site-packages (from tensorflow) (1.12)\n",
      "Requirement already satisfied: wheel~=0.35 in /Users/meeknessanyaeche/opt/anaconda3/lib/python3.8/site-packages (from tensorflow) (0.36.2)\n",
      "Requirement already satisfied: tensorboard~=2.6 in /Users/meeknessanyaeche/opt/anaconda3/lib/python3.8/site-packages (from tensorflow) (2.7.0)\n",
      "Requirement already satisfied: protobuf>=3.9.2 in /Users/meeknessanyaeche/opt/anaconda3/lib/python3.8/site-packages (from tensorflow) (3.19.1)\n",
      "Requirement already satisfied: keras-preprocessing~=1.1.2 in /Users/meeknessanyaeche/opt/anaconda3/lib/python3.8/site-packages (from tensorflow) (1.1.2)\n",
      "Requirement already satisfied: termcolor~=1.1.0 in /Users/meeknessanyaeche/opt/anaconda3/lib/python3.8/site-packages (from tensorflow) (1.1.0)\n",
      "Requirement already satisfied: clang~=5.0 in /Users/meeknessanyaeche/opt/anaconda3/lib/python3.8/site-packages (from tensorflow) (5.0)\n",
      "Requirement already satisfied: astunparse~=1.6.3 in /Users/meeknessanyaeche/opt/anaconda3/lib/python3.8/site-packages (from tensorflow) (1.6.3)\n",
      "Requirement already satisfied: google-pasta~=0.2 in /Users/meeknessanyaeche/opt/anaconda3/lib/python3.8/site-packages (from tensorflow) (0.2.0)\n",
      "Requirement already satisfied: numpy~=1.19.2 in /Users/meeknessanyaeche/opt/anaconda3/lib/python3.8/site-packages (from tensorflow) (1.19.5)\n",
      "Requirement already satisfied: typing-extensions~=3.7.4 in /Users/meeknessanyaeche/opt/anaconda3/lib/python3.8/site-packages (from tensorflow) (3.7.4.3)\n",
      "Requirement already satisfied: opt-einsum~=3.3.0 in /Users/meeknessanyaeche/opt/anaconda3/lib/python3.8/site-packages (from tensorflow) (3.3.0)\n",
      "Requirement already satisfied: six~=1.15.0 in /Users/meeknessanyaeche/opt/anaconda3/lib/python3.8/site-packages (from tensorflow) (1.15.0)\n",
      "Requirement already satisfied: h5py~=3.1.0 in /Users/meeknessanyaeche/opt/anaconda3/lib/python3.8/site-packages (from tensorflow) (3.1.0)\n",
      "Requirement already satisfied: absl-py~=0.10 in /Users/meeknessanyaeche/opt/anaconda3/lib/python3.8/site-packages (from tensorflow) (0.15.0)\n",
      "Requirement already satisfied: wrapt~=1.12.1 in /Users/meeknessanyaeche/opt/anaconda3/lib/python3.8/site-packages (from tensorflow) (1.12.1)\n",
      "Requirement already satisfied: tensorflow-estimator~=2.6 in /Users/meeknessanyaeche/opt/anaconda3/lib/python3.8/site-packages (from tensorflow) (2.7.0)\n",
      "Requirement already satisfied: grpcio<2.0,>=1.37.0 in /Users/meeknessanyaeche/opt/anaconda3/lib/python3.8/site-packages (from tensorflow) (1.41.1)\n",
      "Requirement already satisfied: gast==0.4.0 in /Users/meeknessanyaeche/opt/anaconda3/lib/python3.8/site-packages (from tensorflow) (0.4.0)\n",
      "Requirement already satisfied: keras~=2.6 in /Users/meeknessanyaeche/opt/anaconda3/lib/python3.8/site-packages (from tensorflow) (2.6.0)\n",
      "Requirement already satisfied: google-auth-oauthlib<0.5,>=0.4.1 in /Users/meeknessanyaeche/opt/anaconda3/lib/python3.8/site-packages (from tensorboard~=2.6->tensorflow) (0.4.6)\n",
      "Requirement already satisfied: setuptools>=41.0.0 in /Users/meeknessanyaeche/opt/anaconda3/lib/python3.8/site-packages (from tensorboard~=2.6->tensorflow) (52.0.0.post20210125)\n",
      "Requirement already satisfied: werkzeug>=0.11.15 in /Users/meeknessanyaeche/opt/anaconda3/lib/python3.8/site-packages (from tensorboard~=2.6->tensorflow) (1.0.1)\n",
      "Requirement already satisfied: requests<3,>=2.21.0 in /Users/meeknessanyaeche/opt/anaconda3/lib/python3.8/site-packages (from tensorboard~=2.6->tensorflow) (2.25.1)\n",
      "Requirement already satisfied: tensorboard-data-server<0.7.0,>=0.6.0 in /Users/meeknessanyaeche/opt/anaconda3/lib/python3.8/site-packages (from tensorboard~=2.6->tensorflow) (0.6.1)\n",
      "Requirement already satisfied: tensorboard-plugin-wit>=1.6.0 in /Users/meeknessanyaeche/opt/anaconda3/lib/python3.8/site-packages (from tensorboard~=2.6->tensorflow) (1.8.0)\n",
      "Requirement already satisfied: google-auth<3,>=1.6.3 in /Users/meeknessanyaeche/opt/anaconda3/lib/python3.8/site-packages (from tensorboard~=2.6->tensorflow) (2.3.2)\n",
      "Requirement already satisfied: markdown>=2.6.8 in /Users/meeknessanyaeche/opt/anaconda3/lib/python3.8/site-packages (from tensorboard~=2.6->tensorflow) (3.3.4)\n",
      "Requirement already satisfied: pyasn1-modules>=0.2.1 in /Users/meeknessanyaeche/opt/anaconda3/lib/python3.8/site-packages (from google-auth<3,>=1.6.3->tensorboard~=2.6->tensorflow) (0.2.8)\n",
      "Requirement already satisfied: rsa<5,>=3.1.4 in /Users/meeknessanyaeche/opt/anaconda3/lib/python3.8/site-packages (from google-auth<3,>=1.6.3->tensorboard~=2.6->tensorflow) (4.7.2)\n",
      "Requirement already satisfied: cachetools<5.0,>=2.0.0 in /Users/meeknessanyaeche/opt/anaconda3/lib/python3.8/site-packages (from google-auth<3,>=1.6.3->tensorboard~=2.6->tensorflow) (4.2.4)\n",
      "Requirement already satisfied: requests-oauthlib>=0.7.0 in /Users/meeknessanyaeche/opt/anaconda3/lib/python3.8/site-packages (from google-auth-oauthlib<0.5,>=0.4.1->tensorboard~=2.6->tensorflow) (1.3.0)\n",
      "Requirement already satisfied: pyasn1<0.5.0,>=0.4.6 in /Users/meeknessanyaeche/opt/anaconda3/lib/python3.8/site-packages (from pyasn1-modules>=0.2.1->google-auth<3,>=1.6.3->tensorboard~=2.6->tensorflow) (0.4.8)\n",
      "Requirement already satisfied: certifi>=2017.4.17 in /Users/meeknessanyaeche/opt/anaconda3/lib/python3.8/site-packages (from requests<3,>=2.21.0->tensorboard~=2.6->tensorflow) (2020.12.5)\n",
      "Requirement already satisfied: idna<3,>=2.5 in /Users/meeknessanyaeche/opt/anaconda3/lib/python3.8/site-packages (from requests<3,>=2.21.0->tensorboard~=2.6->tensorflow) (2.10)\n",
      "Requirement already satisfied: chardet<5,>=3.0.2 in /Users/meeknessanyaeche/opt/anaconda3/lib/python3.8/site-packages (from requests<3,>=2.21.0->tensorboard~=2.6->tensorflow) (4.0.0)\n",
      "Requirement already satisfied: urllib3<1.27,>=1.21.1 in /Users/meeknessanyaeche/opt/anaconda3/lib/python3.8/site-packages (from requests<3,>=2.21.0->tensorboard~=2.6->tensorflow) (1.26.4)\n",
      "Requirement already satisfied: oauthlib>=3.0.0 in /Users/meeknessanyaeche/opt/anaconda3/lib/python3.8/site-packages (from requests-oauthlib>=0.7.0->google-auth-oauthlib<0.5,>=0.4.1->tensorboard~=2.6->tensorflow) (3.1.1)\n",
      "Note: you may need to restart the kernel to use updated packages.\n"
     ]
    }
   ],
   "source": [
    "pip install tensorflow"
   ]
  },
  {
   "cell_type": "code",
   "execution_count": 3,
   "metadata": {
    "id": "ZUhLzdBWBSIr"
   },
   "outputs": [],
   "source": [
    "import math\n",
    "import pandas_datareader as web\n",
    "import pandas as pd\n",
    "import numpy as np\n",
    "import seaborn as sns"
   ]
  },
  {
   "cell_type": "code",
   "execution_count": 4,
   "metadata": {
    "colab": {
     "base_uri": "https://localhost:8080/"
    },
    "id": "C5jabZcDBSI7",
    "outputId": "ad44df02-52ea-47f6-f7ce-cba5eb359c55"
   },
   "outputs": [
    {
     "name": "stdout",
     "output_type": "stream",
     "text": [
      "Requirement already satisfied: matplotlib-venn in /Users/meeknessanyaeche/opt/anaconda3/lib/python3.8/site-packages (0.11.6)\r\n",
      "Requirement already satisfied: numpy in /Users/meeknessanyaeche/opt/anaconda3/lib/python3.8/site-packages (from matplotlib-venn) (1.19.5)\r\n",
      "Requirement already satisfied: matplotlib in /Users/meeknessanyaeche/opt/anaconda3/lib/python3.8/site-packages (from matplotlib-venn) (3.3.4)\r\n",
      "Requirement already satisfied: scipy in /Users/meeknessanyaeche/opt/anaconda3/lib/python3.8/site-packages (from matplotlib-venn) (1.6.2)\r\n",
      "Requirement already satisfied: cycler>=0.10 in /Users/meeknessanyaeche/opt/anaconda3/lib/python3.8/site-packages (from matplotlib->matplotlib-venn) (0.10.0)\r\n",
      "Requirement already satisfied: kiwisolver>=1.0.1 in /Users/meeknessanyaeche/opt/anaconda3/lib/python3.8/site-packages (from matplotlib->matplotlib-venn) (1.3.1)\r\n",
      "Requirement already satisfied: pyparsing!=2.0.4,!=2.1.2,!=2.1.6,>=2.0.3 in /Users/meeknessanyaeche/opt/anaconda3/lib/python3.8/site-packages (from matplotlib->matplotlib-venn) (2.4.7)\r\n",
      "Requirement already satisfied: pillow>=6.2.0 in /Users/meeknessanyaeche/opt/anaconda3/lib/python3.8/site-packages (from matplotlib->matplotlib-venn) (8.2.0)\r\n",
      "Requirement already satisfied: python-dateutil>=2.1 in /Users/meeknessanyaeche/opt/anaconda3/lib/python3.8/site-packages (from matplotlib->matplotlib-venn) (2.8.1)\r\n",
      "Requirement already satisfied: six in /Users/meeknessanyaeche/opt/anaconda3/lib/python3.8/site-packages (from cycler>=0.10->matplotlib->matplotlib-venn) (1.15.0)\r\n"
     ]
    }
   ],
   "source": [
    "!pip install matplotlib-venn\n",
    "import matplotlib.pyplot as plt\n",
    "%matplotlib inline"
   ]
  },
  {
   "cell_type": "code",
   "execution_count": 5,
   "metadata": {
    "id": "5KAOPLOABSJG"
   },
   "outputs": [],
   "source": [
    "from sklearn.preprocessing import MinMaxScaler, StandardScaler\n",
    "from sklearn.neighbors import KNeighborsClassifier, KNeighborsRegressor\n",
    "from sklearn.model_selection import train_test_split, cross_validate\n",
    "from sklearn.metrics import classification_report, confusion_matrix\n",
    "from sklearn.tree import DecisionTreeClassifier\n",
    "from sklearn import linear_model, svm\n",
    "from sklearn.pipeline import make_pipeline\n",
    "from sklearn.dummy import DummyRegressor"
   ]
  },
  {
   "cell_type": "code",
   "execution_count": 6,
   "metadata": {
    "id": "E_L-CswXBSJR"
   },
   "outputs": [],
   "source": [
    "from tensorflow.keras.models import Sequential\n",
    "from tensorflow.keras.layers import Dense, LSTM"
   ]
  },
  {
   "cell_type": "markdown",
   "metadata": {
    "id": "LM7VZ13ky7Rj"
   },
   "source": [
    "# Using LSTM Model"
   ]
  },
  {
   "cell_type": "code",
   "execution_count": 7,
   "metadata": {
    "colab": {
     "base_uri": "https://localhost:8080/",
     "height": 437
    },
    "id": "zESmj8_EBSJi",
    "outputId": "816664eb-a3b8-4bc9-84e2-826e8b86e2b3"
   },
   "outputs": [
    {
     "data": {
      "text/html": [
       "<div>\n",
       "<style scoped>\n",
       "    .dataframe tbody tr th:only-of-type {\n",
       "        vertical-align: middle;\n",
       "    }\n",
       "\n",
       "    .dataframe tbody tr th {\n",
       "        vertical-align: top;\n",
       "    }\n",
       "\n",
       "    .dataframe thead th {\n",
       "        text-align: right;\n",
       "    }\n",
       "</style>\n",
       "<table border=\"1\" class=\"dataframe\">\n",
       "  <thead>\n",
       "    <tr style=\"text-align: right;\">\n",
       "      <th></th>\n",
       "      <th>High</th>\n",
       "      <th>Low</th>\n",
       "      <th>Open</th>\n",
       "      <th>Close</th>\n",
       "      <th>Volume</th>\n",
       "      <th>Adj Close</th>\n",
       "    </tr>\n",
       "    <tr>\n",
       "      <th>Date</th>\n",
       "      <th></th>\n",
       "      <th></th>\n",
       "      <th></th>\n",
       "      <th></th>\n",
       "      <th></th>\n",
       "      <th></th>\n",
       "    </tr>\n",
       "  </thead>\n",
       "  <tbody>\n",
       "    <tr>\n",
       "      <th>2015-01-02</th>\n",
       "      <td>47.419998</td>\n",
       "      <td>46.540001</td>\n",
       "      <td>46.660000</td>\n",
       "      <td>46.759998</td>\n",
       "      <td>27913900.0</td>\n",
       "      <td>41.269192</td>\n",
       "    </tr>\n",
       "    <tr>\n",
       "      <th>2015-01-05</th>\n",
       "      <td>46.730000</td>\n",
       "      <td>46.250000</td>\n",
       "      <td>46.369999</td>\n",
       "      <td>46.330002</td>\n",
       "      <td>39673900.0</td>\n",
       "      <td>40.889698</td>\n",
       "    </tr>\n",
       "    <tr>\n",
       "      <th>2015-01-06</th>\n",
       "      <td>46.750000</td>\n",
       "      <td>45.540001</td>\n",
       "      <td>46.380001</td>\n",
       "      <td>45.650002</td>\n",
       "      <td>36447900.0</td>\n",
       "      <td>40.289536</td>\n",
       "    </tr>\n",
       "    <tr>\n",
       "      <th>2015-01-07</th>\n",
       "      <td>46.459999</td>\n",
       "      <td>45.490002</td>\n",
       "      <td>45.980000</td>\n",
       "      <td>46.230000</td>\n",
       "      <td>29114100.0</td>\n",
       "      <td>40.801445</td>\n",
       "    </tr>\n",
       "    <tr>\n",
       "      <th>2015-01-08</th>\n",
       "      <td>47.750000</td>\n",
       "      <td>46.720001</td>\n",
       "      <td>46.750000</td>\n",
       "      <td>47.590000</td>\n",
       "      <td>29645200.0</td>\n",
       "      <td>42.001747</td>\n",
       "    </tr>\n",
       "    <tr>\n",
       "      <th>...</th>\n",
       "      <td>...</td>\n",
       "      <td>...</td>\n",
       "      <td>...</td>\n",
       "      <td>...</td>\n",
       "      <td>...</td>\n",
       "      <td>...</td>\n",
       "    </tr>\n",
       "    <tr>\n",
       "      <th>2019-12-24</th>\n",
       "      <td>157.710007</td>\n",
       "      <td>157.119995</td>\n",
       "      <td>157.479996</td>\n",
       "      <td>157.380005</td>\n",
       "      <td>8989200.0</td>\n",
       "      <td>154.718262</td>\n",
       "    </tr>\n",
       "    <tr>\n",
       "      <th>2019-12-26</th>\n",
       "      <td>158.729996</td>\n",
       "      <td>157.399994</td>\n",
       "      <td>157.559998</td>\n",
       "      <td>158.669998</td>\n",
       "      <td>14520600.0</td>\n",
       "      <td>155.986435</td>\n",
       "    </tr>\n",
       "    <tr>\n",
       "      <th>2019-12-27</th>\n",
       "      <td>159.550003</td>\n",
       "      <td>158.220001</td>\n",
       "      <td>159.449997</td>\n",
       "      <td>158.960007</td>\n",
       "      <td>18412800.0</td>\n",
       "      <td>156.271561</td>\n",
       "    </tr>\n",
       "    <tr>\n",
       "      <th>2019-12-30</th>\n",
       "      <td>159.020004</td>\n",
       "      <td>156.729996</td>\n",
       "      <td>158.990005</td>\n",
       "      <td>157.589996</td>\n",
       "      <td>16348400.0</td>\n",
       "      <td>154.924713</td>\n",
       "    </tr>\n",
       "    <tr>\n",
       "      <th>2019-12-31</th>\n",
       "      <td>157.770004</td>\n",
       "      <td>156.449997</td>\n",
       "      <td>156.770004</td>\n",
       "      <td>157.699997</td>\n",
       "      <td>18369400.0</td>\n",
       "      <td>155.032867</td>\n",
       "    </tr>\n",
       "  </tbody>\n",
       "</table>\n",
       "<p>1258 rows × 6 columns</p>\n",
       "</div>"
      ],
      "text/plain": [
       "                  High         Low        Open       Close      Volume  \\\n",
       "Date                                                                     \n",
       "2015-01-02   47.419998   46.540001   46.660000   46.759998  27913900.0   \n",
       "2015-01-05   46.730000   46.250000   46.369999   46.330002  39673900.0   \n",
       "2015-01-06   46.750000   45.540001   46.380001   45.650002  36447900.0   \n",
       "2015-01-07   46.459999   45.490002   45.980000   46.230000  29114100.0   \n",
       "2015-01-08   47.750000   46.720001   46.750000   47.590000  29645200.0   \n",
       "...                ...         ...         ...         ...         ...   \n",
       "2019-12-24  157.710007  157.119995  157.479996  157.380005   8989200.0   \n",
       "2019-12-26  158.729996  157.399994  157.559998  158.669998  14520600.0   \n",
       "2019-12-27  159.550003  158.220001  159.449997  158.960007  18412800.0   \n",
       "2019-12-30  159.020004  156.729996  158.990005  157.589996  16348400.0   \n",
       "2019-12-31  157.770004  156.449997  156.770004  157.699997  18369400.0   \n",
       "\n",
       "             Adj Close  \n",
       "Date                    \n",
       "2015-01-02   41.269192  \n",
       "2015-01-05   40.889698  \n",
       "2015-01-06   40.289536  \n",
       "2015-01-07   40.801445  \n",
       "2015-01-08   42.001747  \n",
       "...                ...  \n",
       "2019-12-24  154.718262  \n",
       "2019-12-26  155.986435  \n",
       "2019-12-27  156.271561  \n",
       "2019-12-30  154.924713  \n",
       "2019-12-31  155.032867  \n",
       "\n",
       "[1258 rows x 6 columns]"
      ]
     },
     "execution_count": 7,
     "metadata": {},
     "output_type": "execute_result"
    }
   ],
   "source": [
    "#Getting the stock quote. Which for this project, is from Microsoft \n",
    "df = web.DataReader('MSFT', data_source='yahoo', start='2015-01-01', end='2019-12-31')\n",
    "df #print the data  "
   ]
  },
  {
   "cell_type": "code",
   "execution_count": 8,
   "metadata": {
    "colab": {
     "base_uri": "https://localhost:8080/",
     "height": 297
    },
    "id": "8DRPYQirBSJt",
    "outputId": "b089b038-e940-485f-9561-f50c9664b6de"
   },
   "outputs": [
    {
     "data": {
      "text/html": [
       "<div>\n",
       "<style scoped>\n",
       "    .dataframe tbody tr th:only-of-type {\n",
       "        vertical-align: middle;\n",
       "    }\n",
       "\n",
       "    .dataframe tbody tr th {\n",
       "        vertical-align: top;\n",
       "    }\n",
       "\n",
       "    .dataframe thead th {\n",
       "        text-align: right;\n",
       "    }\n",
       "</style>\n",
       "<table border=\"1\" class=\"dataframe\">\n",
       "  <thead>\n",
       "    <tr style=\"text-align: right;\">\n",
       "      <th></th>\n",
       "      <th>High</th>\n",
       "      <th>Low</th>\n",
       "      <th>Open</th>\n",
       "      <th>Close</th>\n",
       "      <th>Volume</th>\n",
       "      <th>Adj Close</th>\n",
       "    </tr>\n",
       "  </thead>\n",
       "  <tbody>\n",
       "    <tr>\n",
       "      <th>count</th>\n",
       "      <td>1258.000000</td>\n",
       "      <td>1258.000000</td>\n",
       "      <td>1258.000000</td>\n",
       "      <td>1258.000000</td>\n",
       "      <td>1.258000e+03</td>\n",
       "      <td>1258.000000</td>\n",
       "    </tr>\n",
       "    <tr>\n",
       "      <th>mean</th>\n",
       "      <td>81.698490</td>\n",
       "      <td>80.342345</td>\n",
       "      <td>81.052250</td>\n",
       "      <td>81.066089</td>\n",
       "      <td>2.912099e+07</td>\n",
       "      <td>76.984421</td>\n",
       "    </tr>\n",
       "    <tr>\n",
       "      <th>std</th>\n",
       "      <td>32.266854</td>\n",
       "      <td>31.781196</td>\n",
       "      <td>32.073285</td>\n",
       "      <td>32.046253</td>\n",
       "      <td>1.396202e+07</td>\n",
       "      <td>32.638121</td>\n",
       "    </tr>\n",
       "    <tr>\n",
       "      <th>min</th>\n",
       "      <td>40.740002</td>\n",
       "      <td>39.720001</td>\n",
       "      <td>40.340000</td>\n",
       "      <td>40.290001</td>\n",
       "      <td>7.425600e+06</td>\n",
       "      <td>35.656021</td>\n",
       "    </tr>\n",
       "    <tr>\n",
       "      <th>25%</th>\n",
       "      <td>53.990002</td>\n",
       "      <td>52.930000</td>\n",
       "      <td>53.495000</td>\n",
       "      <td>53.517499</td>\n",
       "      <td>2.068352e+07</td>\n",
       "      <td>48.689938</td>\n",
       "    </tr>\n",
       "    <tr>\n",
       "      <th>50%</th>\n",
       "      <td>71.494999</td>\n",
       "      <td>70.294998</td>\n",
       "      <td>70.865002</td>\n",
       "      <td>71.010002</td>\n",
       "      <td>2.594710e+07</td>\n",
       "      <td>66.926777</td>\n",
       "    </tr>\n",
       "    <tr>\n",
       "      <th>75%</th>\n",
       "      <td>107.484999</td>\n",
       "      <td>105.082500</td>\n",
       "      <td>106.307499</td>\n",
       "      <td>106.252497</td>\n",
       "      <td>3.333992e+07</td>\n",
       "      <td>102.783342</td>\n",
       "    </tr>\n",
       "    <tr>\n",
       "      <th>max</th>\n",
       "      <td>159.550003</td>\n",
       "      <td>158.220001</td>\n",
       "      <td>159.449997</td>\n",
       "      <td>158.960007</td>\n",
       "      <td>1.691640e+08</td>\n",
       "      <td>156.271561</td>\n",
       "    </tr>\n",
       "  </tbody>\n",
       "</table>\n",
       "</div>"
      ],
      "text/plain": [
       "              High          Low         Open        Close        Volume  \\\n",
       "count  1258.000000  1258.000000  1258.000000  1258.000000  1.258000e+03   \n",
       "mean     81.698490    80.342345    81.052250    81.066089  2.912099e+07   \n",
       "std      32.266854    31.781196    32.073285    32.046253  1.396202e+07   \n",
       "min      40.740002    39.720001    40.340000    40.290001  7.425600e+06   \n",
       "25%      53.990002    52.930000    53.495000    53.517499  2.068352e+07   \n",
       "50%      71.494999    70.294998    70.865002    71.010002  2.594710e+07   \n",
       "75%     107.484999   105.082500   106.307499   106.252497  3.333992e+07   \n",
       "max     159.550003   158.220001   159.449997   158.960007  1.691640e+08   \n",
       "\n",
       "         Adj Close  \n",
       "count  1258.000000  \n",
       "mean     76.984421  \n",
       "std      32.638121  \n",
       "min      35.656021  \n",
       "25%      48.689938  \n",
       "50%      66.926777  \n",
       "75%     102.783342  \n",
       "max     156.271561  "
      ]
     },
     "execution_count": 8,
     "metadata": {},
     "output_type": "execute_result"
    }
   ],
   "source": [
    "df.describe()"
   ]
  },
  {
   "cell_type": "markdown",
   "metadata": {
    "id": "tE8gNOV_irHP"
   },
   "source": [
    "#### Opening Prices"
   ]
  },
  {
   "cell_type": "code",
   "execution_count": 9,
   "metadata": {
    "colab": {
     "base_uri": "https://localhost:8080/",
     "height": 303
    },
    "id": "zspSKx5ZBSJ4",
    "outputId": "6166cfbb-06a4-482e-9941-f046df1fa9a6"
   },
   "outputs": [
    {
     "data": {
      "image/png": "[encoded data removed]",
      "text/plain": [
       "<Figure size 864x288 with 1 Axes>"
      ]
     },
     "metadata": {
      "needs_background": "light"
     },
     "output_type": "display_data"
    }
   ],
   "source": [
    "#visualizing the opening price history \n",
    "plt.figure(figsize=(12,4))\n",
    "plt.plot(df['Open'])\n",
    "plt.xlabel('Date', fontsize=18, color ='black')\n",
    "plt.ylabel('Opening Price USD ($)', fontsize=18, color='black')\n",
    "plt.title('Opening Price History')\n",
    "plt.show()"
   ]
  },
  {
   "cell_type": "markdown",
   "metadata": {
    "id": "l1rzksjoi2-i"
   },
   "source": [
    "#### Closing Prices"
   ]
  },
  {
   "cell_type": "code",
   "execution_count": 10,
   "metadata": {
    "colab": {
     "base_uri": "https://localhost:8080/",
     "height": 303
    },
    "id": "yXNYv4uIBSKB",
    "outputId": "28c81744-f312-411a-8f74-42199e68fb93"
   },
   "outputs": [
    {
     "data": {
      "image/png": "[encoded data removed]",
      "text/plain": [
       "<Figure size 864x288 with 1 Axes>"
      ]
     },
     "metadata": {
      "needs_background": "light"
     },
     "output_type": "display_data"
    }
   ],
   "source": [
    "#Visualizing the closing price history \n",
    "plt.figure(figsize=(12,4))\n",
    "plt.plot(df['Close'], color = 'red')\n",
    "plt.xlabel('Date', fontsize=18, color ='black')\n",
    "plt.ylabel('Closing Price USD ($)', fontsize=18, color='black')\n",
    "plt.title('Closing Price History')\n",
    "plt.show()"
   ]
  },
  {
   "cell_type": "code",
   "execution_count": 11,
   "metadata": {
    "colab": {
     "base_uri": "https://localhost:8080/"
    },
    "id": "MATEGADDBSKN",
    "outputId": "fa164ef5-d87b-4672-fca9-fe782ce93786"
   },
   "outputs": [
    {
     "name": "stdout",
     "output_type": "stream",
     "text": [
      "1007\n"
     ]
    },
    {
     "data": {
      "text/plain": [
       "array([[0.05452092],\n",
       "       [0.05089745],\n",
       "       [0.04516727],\n",
       "       ...,\n",
       "       [1.        ],\n",
       "       [0.98845529],\n",
       "       [0.98938224]])"
      ]
     },
     "execution_count": 11,
     "metadata": {},
     "output_type": "execute_result"
    }
   ],
   "source": [
    "#Lets predict the Closing Price \n",
    "data = df.filter(['Close'])\n",
    "len_trainingdata = math.ceil(len(df) * .8)\n",
    "print(len_trainingdata)\n",
    "\n",
    "msft = data.values #convert to dataset and scale\n",
    "scaler = MinMaxScaler(feature_range=(0,1))\n",
    "scaled_data = scaler.fit_transform(msft)\n",
    "scaled_data"
   ]
  },
  {
   "cell_type": "code",
   "execution_count": 12,
   "metadata": {
    "colab": {
     "base_uri": "https://localhost:8080/"
    },
    "id": "bJIktsCaBSKW",
    "outputId": "78f22151-8b37-4c56-ef1e-0600b8ee83d0"
   },
   "outputs": [
    {
     "name": "stdout",
     "output_type": "stream",
     "text": [
      "[array([0.05452092, 0.05089745, 0.04516727, 0.05005476, 0.06151512,\n",
      "       0.05814441, 0.05317264, 0.05115024, 0.04777954, 0.04373471,\n",
      "       0.05013905, 0.05140304, 0.04744246, 0.05763883, 0.05806016,\n",
      "       0.0566276 , 0.01997134, 0.00758404, 0.01449395, 0.00092695,\n",
      "       0.00834244, 0.01103899, 0.01306142, 0.01820173, 0.01786466,\n",
      "       0.01744333, 0.01946572, 0.01761187, 0.02359484, 0.03016767,\n",
      "       0.02772395, 0.02730258, 0.02704979, 0.03008342, 0.03252718,\n",
      "       0.03202156, 0.0311789 , 0.03176877, 0.02999914, 0.03025196,\n",
      "       0.0251959 , 0.02334204, 0.02376337, 0.01744333, 0.02157241,\n",
      "       0.01466249, 0.01424116, 0.00615151, 0.00918514, 0.01070195,\n",
      "       0.01188169, 0.01862306, 0.01685346, 0.02182523, 0.02165669,\n",
      "       0.02199377, 0.00985926, 0.00775258, 0.00573018, 0.00564589])]\n",
      "[0.003117880793850447]\n",
      "\n",
      "[array([0.05452092, 0.05089745, 0.04516727, 0.05005476, 0.06151512,\n",
      "       0.05814441, 0.05317264, 0.05115024, 0.04777954, 0.04373471,\n",
      "       0.05013905, 0.05140304, 0.04744246, 0.05763883, 0.05806016,\n",
      "       0.0566276 , 0.01997134, 0.00758404, 0.01449395, 0.00092695,\n",
      "       0.00834244, 0.01103899, 0.01306142, 0.01820173, 0.01786466,\n",
      "       0.01744333, 0.01946572, 0.01761187, 0.02359484, 0.03016767,\n",
      "       0.02772395, 0.02730258, 0.02704979, 0.03008342, 0.03252718,\n",
      "       0.03202156, 0.0311789 , 0.03176877, 0.02999914, 0.03025196,\n",
      "       0.0251959 , 0.02334204, 0.02376337, 0.01744333, 0.02157241,\n",
      "       0.01466249, 0.01424116, 0.00615151, 0.00918514, 0.01070195,\n",
      "       0.01188169, 0.01862306, 0.01685346, 0.02182523, 0.02165669,\n",
      "       0.02199377, 0.00985926, 0.00775258, 0.00573018, 0.00564589]), array([0.05089745, 0.04516727, 0.05005476, 0.06151512, 0.05814441,\n",
      "       0.05317264, 0.05115024, 0.04777954, 0.04373471, 0.05013905,\n",
      "       0.05140304, 0.04744246, 0.05763883, 0.05806016, 0.0566276 ,\n",
      "       0.01997134, 0.00758404, 0.01449395, 0.00092695, 0.00834244,\n",
      "       0.01103899, 0.01306142, 0.01820173, 0.01786466, 0.01744333,\n",
      "       0.01946572, 0.01761187, 0.02359484, 0.03016767, 0.02772395,\n",
      "       0.02730258, 0.02704979, 0.03008342, 0.03252718, 0.03202156,\n",
      "       0.0311789 , 0.03176877, 0.02999914, 0.03025196, 0.0251959 ,\n",
      "       0.02334204, 0.02376337, 0.01744333, 0.02157241, 0.01466249,\n",
      "       0.01424116, 0.00615151, 0.00918514, 0.01070195, 0.01188169,\n",
      "       0.01862306, 0.01685346, 0.02182523, 0.02165669, 0.02199377,\n",
      "       0.00985926, 0.00775258, 0.00573018, 0.00564589, 0.00311788])]\n",
      "[0.003117880793850447, 0.003623496116672398]\n",
      "\n"
     ]
    }
   ],
   "source": [
    "train_data = scaled_data[0:len_trainingdata, :]\n",
    "#spliting the data\n",
    "x_train = []\n",
    "y_train = []\n",
    "for i in range(60, len(train_data)):\n",
    "    x_train.append(train_data[i-60:i, 0])\n",
    "    y_train.append(train_data[i, 0])\n",
    "    if i<=61:\n",
    "        print(x_train)\n",
    "        print(y_train)\n",
    "        print()\n"
   ]
  },
  {
   "cell_type": "code",
   "execution_count": 13,
   "metadata": {
    "colab": {
     "base_uri": "https://localhost:8080/"
    },
    "id": "yW6s-7rABSKh",
    "outputId": "3b489673-da26-44a7-9e02-72fa5d9ba855"
   },
   "outputs": [
    {
     "data": {
      "text/plain": [
       "(947, 60, 1)"
      ]
     },
     "execution_count": 13,
     "metadata": {},
     "output_type": "execute_result"
    }
   ],
   "source": [
    "x_train, y_train = np.array(x_train), np.array(y_train) #convert both arrays to numpy\n",
    "#LSTM MODEL\n",
    "x_train = np.reshape(x_train, (x_train.shape[0],x_train.shape[1], 1))\n",
    "x_train.shape"
   ]
  },
  {
   "cell_type": "markdown",
   "metadata": {
    "id": "IGdPtK_Ki-_o"
   },
   "source": [
    "#### Build LSTM Model"
   ]
  },
  {
   "cell_type": "code",
   "execution_count": 14,
   "metadata": {
    "id": "u4YflQUGBSKr"
   },
   "outputs": [],
   "source": [
    "#BUILD LSTM MODEL\n",
    "model = Sequential()\n",
    "model.add(LSTM(50, return_sequences=True, input_shape = (x_train.shape[1], 1)))\n",
    "model.add(LSTM(50, return_sequences=False))\n",
    "model.add(Dense(25))\n",
    "model.add(Dense(1))\n"
   ]
  },
  {
   "cell_type": "code",
   "execution_count": 15,
   "metadata": {
    "id": "2-pmh9w6BSK3"
   },
   "outputs": [],
   "source": [
    "model.compile(optimizer='adam', loss='mean_squared_error') #Compile"
   ]
  },
  {
   "cell_type": "code",
   "execution_count": 16,
   "metadata": {
    "colab": {
     "base_uri": "https://localhost:8080/"
    },
    "id": "-kru8jsrBSLA",
    "outputId": "dacef38c-96e1-4a5e-ea11-a7cee2b7dfa4"
   },
   "outputs": [
    {
     "name": "stdout",
     "output_type": "stream",
     "text": [
      "947/947 [==============================] - 22s 21ms/step - loss: 0.0011\n"
     ]
    },
    {
     "data": {
      "text/plain": [
       "<keras.callbacks.History at 0x7fd82cd2fdc0>"
      ]
     },
     "execution_count": 16,
     "metadata": {},
     "output_type": "execute_result"
    }
   ],
   "source": [
    "model.fit(x_train, y_train, batch_size=1, epochs=1) #Train"
   ]
  },
  {
   "cell_type": "code",
   "execution_count": 18,
   "metadata": {
    "id": "JZlXLb0QBSLK"
   },
   "outputs": [],
   "source": [
    "#create testing dataset\n",
    "test_data = scaled_data[len_trainingdata-60: , :]\n",
    "x_test = []\n",
    "y_test = msft[len_trainingdata: , :]\n",
    "for i in range(60, len(test_data)):\n",
    "    x_test.append(test_data[i-60:i, 0])\n"
   ]
  },
  {
   "cell_type": "code",
   "execution_count": null,
   "metadata": {
    "colab": {
     "base_uri": "https://localhost:8080/"
    },
    "id": "SaewoiAtBSLT",
    "outputId": "8482016c-3094-4b66-c11e-32686017a3a4"
   },
   "outputs": [],
   "source": [
    "#Convert testing data to numpy array\n",
    "x_test = np.array(x_test)\n",
    "x_test = np.reshape(x_test, (x_test.shape[0],x_test.shape[1], 1))\n",
    "x_train.shape "
   ]
  },
  {
   "cell_type": "code",
   "execution_count": null,
   "metadata": {
    "id": "yU8DnjC7BSLd"
   },
   "outputs": [],
   "source": [
    "#Get the predictions\n",
    "predictions = model.predict(x_test)\n",
    "predictions = scaler.inverse_transform(predictions)"
   ]
  },
  {
   "cell_type": "code",
   "execution_count": null,
   "metadata": {
    "colab": {
     "base_uri": "https://localhost:8080/"
    },
    "id": "RWzBa55WBSLm",
    "outputId": "77eb9a94-b9d9-4c93-a8ce-123326f69f6c"
   },
   "outputs": [],
   "source": [
    "#Get the RMSE\n",
    "rmse = np.sqrt( np.mean(predictions - y_test)**2)\n",
    "rmse"
   ]
  },
  {
   "cell_type": "markdown",
   "metadata": {
    "id": "ADbJzZTIjKi4"
   },
   "source": [
    "### Prediction"
   ]
  },
  {
   "cell_type": "code",
   "execution_count": null,
   "metadata": {
    "colab": {
     "base_uri": "https://localhost:8080/",
     "height": 578
    },
    "id": "-nZiYeBsBSLy",
    "outputId": "82c9edf7-e7aa-403f-b934-dc84d2b705dc"
   },
   "outputs": [],
   "source": [
    "#Plot the data\n",
    "train = data[:len_trainingdata]\n",
    "valid = data[len_trainingdata:]\n",
    "valid['Predictions'] = predictions\n",
    "#Get the plot\n",
    "plt.figure(figsize=(16,8))\n",
    "plt.xlabel('Date', fontsize=18, color ='black')\n",
    "plt.ylabel('Closing Price USD ($)', fontsize=18, color='black')\n",
    "plt.title('Model')\n",
    "plt.plot(train['Close'])\n",
    "plt.plot(valid[['Close', 'Predictions']])\n",
    "plt.legend(['Train', 'Val', 'Predictions'], loc='lower right')\n",
    "plt.show()"
   ]
  },
  {
   "cell_type": "code",
   "execution_count": null,
   "metadata": {
    "colab": {
     "base_uri": "https://localhost:8080/",
     "height": 450
    },
    "id": "TzKVhjFlBSL-",
    "outputId": "1734ee74-799b-4f52-a1ef-0178f554efb9"
   },
   "outputs": [],
   "source": [
    "#Show valid and predictions\n",
    "valid"
   ]
  },
  {
   "cell_type": "markdown",
   "metadata": {
    "id": "snXI4gNSBSMN"
   },
   "source": [
    "# Using Classifications"
   ]
  },
  {
   "cell_type": "code",
   "execution_count": null,
   "metadata": {
    "id": "lEicRtknBSMV"
   },
   "outputs": [],
   "source": [
    "x = df.iloc[:, :-1]\n",
    "y = df.iloc[:, 3]"
   ]
  },
  {
   "cell_type": "code",
   "execution_count": null,
   "metadata": {
    "id": "ZvzThpT-BSMf"
   },
   "outputs": [],
   "source": [
    "#test and train\n",
    "x_train, x_test, y_train, y_test = train_test_split(x, y, random_state = 0, test_size=0.2)\n",
    "scaler = StandardScaler()\n",
    "x_train = scaler.fit_transform(x_train)\n",
    "x_test = scaler.transform(x_test) "
   ]
  },
  {
   "cell_type": "code",
   "execution_count": null,
   "metadata": {
    "colab": {
     "base_uri": "https://localhost:8080/"
    },
    "id": "bIb5hwvRBSMt",
    "outputId": "a2096bc3-0b71-4202-8611-2b0ec28b0e94"
   },
   "outputs": [],
   "source": [
    "import numpy as np\n",
    "from sklearn import linear_model\n",
    "from sklearn import svm\n",
    "\n",
    "classifiers = [\n",
    "    svm.SVR(),\n",
    "    linear_model.SGDRegressor(),\n",
    "    linear_model.BayesianRidge(),\n",
    "    linear_model.LassoLars(),\n",
    "    linear_model.ARDRegression(),\n",
    "    linear_model.PassiveAggressiveRegressor(),\n",
    "    linear_model.TheilSenRegressor(),\n",
    "    linear_model.LinearRegression()]\n",
    "\n",
    "\n",
    "for item in classifiers:\n",
    "    print(item)\n",
    "    clf = item\n",
    "    clf.fit(x_train, y_train)\n",
    "    y_pred = clf.predict(x_test)\n",
    "y_pred = clf.predict(x_test)"
   ]
  },
  {
   "cell_type": "markdown",
   "metadata": {
    "id": "4GZervGBBSNI"
   },
   "source": [
    "# Using Linear Regression \n",
    "## Data is for APPLE"
   ]
  },
  {
   "cell_type": "code",
   "execution_count": null,
   "metadata": {
    "id": "GE5XtwF-BSNK"
   },
   "outputs": [],
   "source": [
    "from sklearn.model_selection import train_test_split\n",
    "from sklearn.linear_model import LinearRegression\n",
    "from sklearn import metrics"
   ]
  },
  {
   "cell_type": "code",
   "execution_count": null,
   "metadata": {
    "colab": {
     "base_uri": "https://localhost:8080/",
     "height": 450
    },
    "id": "NNpMOzqYBSNT",
    "outputId": "0b6b41ab-9a96-4b82-e98e-5f7ba6198ded"
   },
   "outputs": [],
   "source": [
    "#New stock recod for apple\n",
    "df2 = web.DataReader('AAPL', data_source='yahoo', start='2015-01-01', end='2019-12-31')\n",
    "df2 #prints out"
   ]
  },
  {
   "cell_type": "code",
   "execution_count": null,
   "metadata": {
    "colab": {
     "base_uri": "https://localhost:8080/",
     "height": 297
    },
    "id": "oMNHJHT9BSNe",
    "outputId": "91c58eca-87f6-438c-d315-143919f69311"
   },
   "outputs": [],
   "source": [
    "df2.describe()"
   ]
  },
  {
   "cell_type": "code",
   "execution_count": null,
   "metadata": {
    "id": "tYxBg9wgBSNx"
   },
   "outputs": [],
   "source": [
    "x = df2[['High', 'Low', 'Open', 'Volume']].values\n",
    "y = df2['Close'].values"
   ]
  },
  {
   "cell_type": "code",
   "execution_count": null,
   "metadata": {
    "id": "cpXRmXLhBSN9"
   },
   "outputs": [],
   "source": [
    "#test and train\n",
    "x_train, x_test, y_train, y_test = train_test_split(x, y, test_size=0.2,random_state=0)"
   ]
  },
  {
   "cell_type": "code",
   "execution_count": null,
   "metadata": {
    "id": "YvzlLOtxBSOI"
   },
   "outputs": [],
   "source": [
    "regressor = linear_model.LinearRegression()"
   ]
  },
  {
   "cell_type": "code",
   "execution_count": null,
   "metadata": {
    "colab": {
     "base_uri": "https://localhost:8080/"
    },
    "id": "g173gkfSBSOU",
    "outputId": "29ca631f-7b03-4170-b233-910aa9d43746"
   },
   "outputs": [],
   "source": [
    "#Fit\n",
    "regressor.fit(x_train, y_train)"
   ]
  },
  {
   "cell_type": "code",
   "execution_count": null,
   "metadata": {
    "colab": {
     "base_uri": "https://localhost:8080/"
    },
    "id": "G-9UBzs1BSOi",
    "outputId": "20363ead-5de1-4c13-c5a6-03a278ccdb76"
   },
   "outputs": [],
   "source": [
    "print(regressor.coef_)\n",
    "print(regressor.intercept_)"
   ]
  },
  {
   "cell_type": "code",
   "execution_count": null,
   "metadata": {
    "colab": {
     "base_uri": "https://localhost:8080/"
    },
    "id": "yGk_iXwMBSOt",
    "outputId": "7caaf9ae-89bb-4562-9b0f-2e0b546ddcdf"
   },
   "outputs": [],
   "source": [
    "#Predict\n",
    "predicted = regressor.predict(x_test)\n",
    "predicted"
   ]
  },
  {
   "cell_type": "code",
   "execution_count": null,
   "metadata": {
    "colab": {
     "base_uri": "https://localhost:8080/",
     "height": 419
    },
    "id": "Hs0Z-GHJBSO6",
    "outputId": "55d97ca3-00ad-4930-bc71-6742fda7c76e"
   },
   "outputs": [],
   "source": [
    "dframe = pd.DataFrame({'Actual':y_test.flatten(), 'Predicted':predicted.flatten()})\n",
    "dframe.head(100) #First 100 data "
   ]
  },
  {
   "cell_type": "code",
   "execution_count": null,
   "metadata": {
    "colab": {
     "base_uri": "https://localhost:8080/"
    },
    "id": "5wb1GOD4BSPE",
    "outputId": "d46f78d3-e695-4314-cdc0-e378caf151a9"
   },
   "outputs": [],
   "source": [
    "print('Mean Absolute Error:', metrics.mean_absolute_error(y_test, predicted))\n",
    "print('Mean Squared Error:', metrics.mean_squared_error(y_test, predicted))\n",
    "print('Root Mean Squared Error:', math.sqrt(metrics.mean_squared_error(y_test, predicted)))"
   ]
  },
  {
   "cell_type": "code",
   "execution_count": null,
   "metadata": {
    "colab": {
     "base_uri": "https://localhost:8080/",
     "height": 533
    },
    "id": "pW2jmCFbBSPP",
    "outputId": "1f15cab8-3644-45f7-c8d5-e91a96a53e3a"
   },
   "outputs": [],
   "source": [
    "#Graph of the first 30 data items\n",
    "graph = dframe.head(30)\n",
    "graph.plot(kind='line')\n",
    "graph.plot(kind='bar')"
   ]
  },
  {
   "cell_type": "code",
   "execution_count": null,
   "metadata": {
    "id": "gRV9k0kKBSPX"
   },
   "outputs": [],
   "source": [
    "def regression_residuals(ax, predicted, actual, \n",
    "                         show_errors=None, right=False):\n",
    "    ''' figsize -> subplots; \n",
    "        predicted/actual data -> columns of a DataFrame\n",
    "        errors -> \"all\" or sequence of indices '''\n",
    "    df = pd.DataFrame({'actual':actual, \n",
    "                       'predicted':predicted})\n",
    "    df['error'] = df.actual - df.predicted\n",
    "    ax.plot(df.predicted, df.error, '.')\n",
    "    ax.plot(df.predicted, np.zeros_like(predicted), '-')\n",
    "    \n",
    "    if right:\n",
    "        ax.yaxis.tick_right()\n",
    "        ax.yaxis.set_label_position(\"right\")\n",
    "    \n",
    "    ax.set_xlabel('Predicted Value')\n",
    "    ax.set_ylabel('Residual')\n",
    "    \n",
    "    if show_errors == 'all':\n",
    "        show_errors = range(len(df))\n",
    "    if show_errors:\n",
    "        preds = df.predicted.iloc[show_errors]\n",
    "        errors = df.error.iloc[show_errors]\n",
    "        ax.vlines(preds, 0, errors, 'r')"
   ]
  },
  {
   "cell_type": "code",
   "execution_count": null,
   "metadata": {
    "colab": {
     "base_uri": "https://localhost:8080/",
     "height": 395
    },
    "id": "xh9f0ReOBSPj",
    "outputId": "234b96b0-a9b6-47bc-ebac-5a9859970170"
   },
   "outputs": [],
   "source": [
    "knn = KNeighborsRegressor()\n",
    "\n",
    "models = [regressor, knn]\n",
    "\n",
    "fig, axes = plt.subplots(1, 2, figsize=(10,5), \n",
    "                         sharex=True, sharey=True)\n",
    "fig.tight_layout()\n",
    "\n",
    "for model, ax, on_right in zip(models, axes, [False, True]):\n",
    "    preds = (model.fit(x_train, y_train)\n",
    "                  .predict(x_test))\n",
    "    \n",
    "    regression_residuals(ax, preds, y_test, [-20], on_right)\n",
    "\n",
    "axes[0].set_title('Linear Regression Residuals')\n",
    "axes[1].set_title('kNN-Regressor Rediduals');"
   ]
  },
  {
   "cell_type": "code",
   "execution_count": null,
   "metadata": {
    "id": "oHlV1-2NBSPx"
   },
   "outputs": [],
   "source": [
    "def rms_error(actual, predicted):\n",
    "    ' root-mean-squared-error function '\n",
    "    # lesser values are better (a<b ... a is better)\n",
    "    mse = metrics.mean_squared_error(actual, predicted)    \n",
    "    return np.sqrt(mse)\n",
    "\n",
    "def neg_rmse_score(actual, predicted):\n",
    "    ' rmse based score function '\n",
    "    #  greater values are better  (a<b ... b better)\n",
    "    return -rms_error(actual, predicted)\n",
    "\n",
    "def neg_rmse_scorer(mod, ftrs, tgt_actual):\n",
    "    ' rmse scorer suitable for scoring arg '\n",
    "    tgt_pred = mod.predict(ftrs)\n",
    "    return neg_rmse_score(tgt_actual, tgt_pred)"
   ]
  },
  {
   "cell_type": "markdown",
   "metadata": {
    "id": "D6AtkLGJiMge"
   },
   "source": [
    "## Pipeline, KNN Regressor"
   ]
  },
  {
   "cell_type": "code",
   "execution_count": null,
   "metadata": {
    "colab": {
     "base_uri": "https://localhost:8080/",
     "height": 309
    },
    "id": "a1L0nsDrBSP7",
    "outputId": "a232f603-d3c8-4653-99aa-c28cf3cbfc2a"
   },
   "outputs": [],
   "source": [
    "scaler = StandardScaler()\n",
    "\n",
    "regressor  = linear_model.LinearRegression()\n",
    "knn_3 = KNeighborsRegressor(n_neighbors=3)\n",
    "knn_10 =  KNeighborsRegressor(n_neighbors=10)\n",
    "\n",
    "std_r_pipe  = make_pipeline(scaler, regressor)\n",
    "std_knn3_pipe  = make_pipeline(scaler, knn_3)\n",
    "std_knn10_pipe  = make_pipeline(scaler, knn_10)\n",
    "\n",
    "# mean with/without Standardization should give same results\n",
    "regressors = {'baseline'  : DummyRegressor(strategy='mean'),\n",
    "              'std_knn3'  : std_knn3_pipe,\n",
    "              'std_knn10' : std_knn10_pipe,\n",
    "              'std_r'    : std_r_pipe}\n",
    "\n",
    "msrs = {'MAE'  : metrics.make_scorer(metrics.mean_absolute_error),\n",
    "        'RMSE' : metrics.make_scorer(rms_error)}\n",
    "\n",
    "fig, axes = plt.subplots(2, 1, figsize=(6,4))\n",
    "fig.tight_layout()\n",
    "for mod_name, model in regressors.items():\n",
    "    cv_results = cross_validate(model, x_test, y_test, scoring = msrs, cv=10)\n",
    "    for ax, msr in zip(axes, msrs):\n",
    "        msr_results = cv_results[\"test_\" + msr]\n",
    "        my_lbl = \"{:12s} {:.3f} {:.2f}\".format(mod_name, \n",
    "                                               msr_results.mean(), \n",
    "                                               msr_results.std())\n",
    "        ax.plot(msr_results, 'o--', label=my_lbl)\n",
    "        ax.set_title(msr)\n",
    "        # ax.legend() # uncomment for summary stats"
   ]
  },
  {
   "cell_type": "markdown",
   "metadata": {
    "id": "yntG3nt8kGNU"
   },
   "source": [
    "# Feature Construction and Selection"
   ]
  },
  {
   "cell_type": "code",
   "execution_count": null,
   "metadata": {
    "colab": {
     "base_uri": "https://localhost:8080/",
     "height": 447
    },
    "id": "xIvT_OVIkKRg",
    "outputId": "7d4914e0-623a-4c91-ffb4-d244ee315ef2"
   },
   "outputs": [],
   "source": [
    "x_train, x_test, y_train, y_test = train_test_split(x, y, random_state = 0, test_size=0.2)\n",
    "print(df.Close)"
   ]
  },
  {
   "cell_type": "code",
   "execution_count": null,
   "metadata": {
    "id": "P21LQKM6n8H_"
   },
   "outputs": [],
   "source": [
    "fig, ax = plt.subplots(1,1,figsize=(4,3))\n",
    "f_temps = np.linspace(0, 212, 100)\n",
    "c_temps = (5/9) * (f_temps - 32)\n",
    "plt.plot(f_temps, f_temps, 'r',  # F -> F\n",
    "         f_temps, c_temps, 'b');"
   ]
  },
  {
   "cell_type": "code",
   "execution_count": null,
   "metadata": {
    "colab": {
     "base_uri": "https://localhost:8080/",
     "height": 225
    },
    "id": "5qsPqnkWoDUm",
    "outputId": "96f0c07b-8d22-4016-eedc-913b23ee3b59"
   },
   "outputs": [],
   "source": [
    "fig, ax = plt.subplots(1,1,figsize=(4,3))\n",
    "original = np.random.uniform(-5, 5, 100)\n",
    "scaled = StandardScaler().fit_transform(original.reshape(-1,1))[:,0]\n",
    "bins = np.floor(original).astype(np.uint8) + 5\n",
    "\n",
    "df = pd.DataFrame({'original':original,\n",
    "                   'scaled':scaled,\n",
    "                   'hue':bins})\n",
    "df = pd.melt(df, id_vars='hue', var_name='scale')\n",
    "\n",
    "sns.swarmplot(x='scale', y='value', hue='hue', data=df).legend_.remove()"
   ]
  }
 ],
 "metadata": {
  "colab": {
   "collapsed_sections": [],
   "name": "Project 1.ipynb",
   "provenance": [],
   "toc_visible": true
  },
  "kernelspec": {
   "display_name": "Python 3",
   "language": "python",
   "name": "python3"
  },
  "language_info": {
   "codemirror_mode": {
    "name": "ipython",
    "version": 3
   },
   "file_extension": ".py",
   "mimetype": "text/x-python",
   "name": "python",
   "nbconvert_exporter": "python",
   "pygments_lexer": "ipython3",
   "version": "3.8.8"
  }
 },
 "nbformat": 4,
 "nbformat_minor": 1
}
